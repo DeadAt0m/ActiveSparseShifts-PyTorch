{
 "cells": [
  {
   "cell_type": "code",
   "execution_count": 89,
   "metadata": {},
   "outputs": [
    {
     "name": "stdout",
     "output_type": "stream",
     "text": [
      "[-20, -19, -18, -17, -16, -15, -14, -13, -12, -11, -10, -9, -8, -7, -6, -5, -4, -3, -2, -1] [0, 1, 2, 3, 4, 5] [6, 7, 8, 9, 10, 11, 12, 13, 14, 15, 16, 17, 18, 19, 20]\n",
      "[0, 1, 2, 3, 4, 5, 4, 3, 2, 1, 0, 1, 2, 3, 4, 5, 4, 3, 2, 1] [0, 1, 2, 3, 4, 5] [4, 3, 2, 1, 0, 1, 2, 3, 4, 5, 4, 3, 2, 1, 0]\n"
     ]
    }
   ],
   "source": [
    "# if (out_index < 0) {out_index = abs<idx_t>(out_index) - 1;}\n",
    "# out_index = ((out_index / len) % 2 == 1) ? (len - 1 - (out_index / len)) : (out_index / len);\n",
    "\n",
    "test = list(range(-20,21))\n",
    "_len = 6\n",
    "def sym_pad(i, l):\n",
    "    k = (i // l) & 1\n",
    "    i = (l + (i % l)) % l\n",
    "    if k:\n",
    "        i=l-1-i\n",
    "    return i\n",
    "\n",
    "def ref_pad(i, l):\n",
    "    k = (i // (l-1)) & 1\n",
    "    i = (l-1 + (i % (l-1))) % (l-1)\n",
    "    if k:\n",
    "        i=l-1-i\n",
    "    return i\n",
    "\n",
    "\n",
    "def periodic_pad(i, l):\n",
    "    i = (l + (i % l)) % l\n",
    "    return i\n",
    "\n",
    "print(test[:20], test[20:20+_len], test[20+_len:])\n",
    "test1 = list(map(lambda x: ref_pad(x,_len), test))\n",
    "print(test1[:20], test1[20:20+_len], test1[20+_len:])"
   ]
  },
  {
   "cell_type": "code",
   "execution_count": 1,
   "metadata": {},
   "outputs": [],
   "source": [
    "import torch\n",
    "k = torch.ones(3,1,16,16)"
   ]
  },
  {
   "cell_type": "code",
   "execution_count": 5,
   "metadata": {},
   "outputs": [
    {
     "data": {
      "text/plain": [
       "torch.Size([3, 5, 8, 8])"
      ]
     },
     "execution_count": 5,
     "metadata": {},
     "output_type": "execute_result"
    }
   ],
   "source": [
    "torch.nn.Conv2d(1,5,1,stride=2)(k).shape"
   ]
  },
  {
   "cell_type": "code",
   "execution_count": 18,
   "metadata": {},
   "outputs": [
    {
     "data": {
      "text/plain": [
       "1"
      ]
     },
     "execution_count": 18,
     "metadata": {},
     "output_type": "execute_result"
    }
   ],
   "source": [
    "3 &1"
   ]
  },
  {
   "cell_type": "code",
   "execution_count": 25,
   "metadata": {},
   "outputs": [
    {
     "data": {
      "text/plain": [
       "5"
      ]
     },
     "execution_count": 25,
     "metadata": {},
     "output_type": "execute_result"
    }
   ],
   "source": [
    "-1 % 6"
   ]
  },
  {
   "cell_type": "code",
   "execution_count": null,
   "metadata": {},
   "outputs": [],
   "source": []
  }
 ],
 "metadata": {
  "kernelspec": {
   "display_name": "Python 3",
   "language": "python",
   "name": "python3"
  },
  "language_info": {
   "codemirror_mode": {
    "name": "ipython",
    "version": 3
   },
   "file_extension": ".py",
   "mimetype": "text/x-python",
   "name": "python",
   "nbconvert_exporter": "python",
   "pygments_lexer": "ipython3",
   "version": "3.7.8"
  }
 },
 "nbformat": 4,
 "nbformat_minor": 4
}
